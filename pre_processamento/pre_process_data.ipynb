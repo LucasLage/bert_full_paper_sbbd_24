{
 "cells": [
  {
   "cell_type": "code",
   "execution_count": 1,
   "id": "79fc1707",
   "metadata": {},
   "outputs": [],
   "source": [
    "from pre_process_data_functions import process_data"
   ]
  },
  {
   "cell_type": "code",
   "execution_count": 2,
   "id": "f37f5ad8",
   "metadata": {},
   "outputs": [],
   "source": [
    "df_path = '../criacao masked text/text_masked.csv'"
   ]
  },
  {
   "cell_type": "code",
   "execution_count": null,
   "id": "ae5ace69",
   "metadata": {},
   "outputs": [],
   "source": [
    "# import csv\n",
    "# i = 0\n",
    "# with open('../criacao masked text/text_masked.csv', 'r', encoding='utf-8') as file:\n",
    "#   csvreader = csv.reader(file)\n",
    "#   for row in csvreader:\n",
    "#     print(row)\n",
    "#     i += 1\n",
    "#     if i == 10:\n",
    "#         break"
   ]
  },
  {
   "cell_type": "code",
   "execution_count": 3,
   "id": "4f98be4f",
   "metadata": {},
   "outputs": [
    {
     "name": "stdout",
     "output_type": "stream",
     "text": [
      "627649\n",
      "100629\n",
      "516384\n"
     ]
    },
    {
     "name": "stderr",
     "output_type": "stream",
     "text": [
      "100%|██████████| 516384/516384 [34:12<00:00, 251.64segments preprocessed/s] \n"
     ]
    },
    {
     "name": "stdout",
     "output_type": "stream",
     "text": [
      "Preprocess Finished. preprocessed data saved on preprocessed_data.csv\n"
     ]
    },
    {
     "data": {
      "text/plain": [
       "'preprocessed_data.csv'"
      ]
     },
     "execution_count": 3,
     "metadata": {},
     "output_type": "execute_result"
    }
   ],
   "source": [
    "process_data(df_path)"
   ]
  },
  {
   "cell_type": "code",
   "execution_count": null,
   "id": "8eeab398",
   "metadata": {},
   "outputs": [],
   "source": [
    "# import pandas as pd\n",
    "# df = pd.read_csv(df_path)"
   ]
  },
  {
   "cell_type": "code",
   "execution_count": null,
   "id": "21fc41ec",
   "metadata": {},
   "outputs": [],
   "source": [
    "# t = df.head(10)"
   ]
  },
  {
   "cell_type": "code",
   "execution_count": null,
   "id": "81e9cc3c",
   "metadata": {},
   "outputs": [],
   "source": [
    "# i = 0\n",
    "# if isinstance(t[text_masked], str) and len(text_masked) > 0:\n",
    "#     tokens_masked = i\n",
    "#     i += 1\n",
    "# else:\n",
    "#     tokens_masked = []  "
   ]
  }
 ],
 "metadata": {
  "kernelspec": {
   "display_name": "Python 3",
   "language": "python",
   "name": "python3"
  },
  "language_info": {
   "codemirror_mode": {
    "name": "ipython",
    "version": 3
   },
   "file_extension": ".py",
   "mimetype": "text/x-python",
   "name": "python",
   "nbconvert_exporter": "python",
   "pygments_lexer": "ipython3",
   "version": "3.6.8"
  }
 },
 "nbformat": 4,
 "nbformat_minor": 5
}
